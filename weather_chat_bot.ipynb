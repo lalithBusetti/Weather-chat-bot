{
  "nbformat": 4,
  "nbformat_minor": 0,
  "metadata": {
    "colab": {
      "provenance": []
    },
    "kernelspec": {
      "name": "python3",
      "display_name": "Python 3"
    },
    "language_info": {
      "name": "python"
    }
  },
  "cells": [
    {
      "cell_type": "code",
      "execution_count": 1,
      "metadata": {
        "colab": {
          "base_uri": "https://localhost:8080/"
        },
        "id": "lJIK7esFuJcr",
        "outputId": "0c570c19-a276-49d8-e885-3121aa25feb0"
      },
      "outputs": [
        {
          "output_type": "stream",
          "name": "stdout",
          "text": [
            "Welcome to the Weather Chatbot!\n",
            "Please enter a location (or 'exit' to quit): kadapa\n",
            "The current temperature in kadapa is 29.5°C with Patchy rain possible.\n",
            "Please enter a location (or 'exit' to quit): hyderabad\n",
            "The current temperature in hyderabad is 26.0°C with Light rain.\n",
            "Please enter a location (or 'exit' to quit): exit\n",
            "Thank you for using the Weather Chatbot. Goodbye!\n"
          ]
        }
      ],
      "source": [
        "import requests\n",
        "import json\n",
        "\n",
        "def get_weather(location):\n",
        "    # API endpoint URL for weather data\n",
        "    url = f\"https://api.weatherapi.com/v1/current.json?key=661b900f19ac4f5f871154050231506 &q={location}\"\n",
        "\n",
        "    try:\n",
        "        # Send a GET request to the API\n",
        "        response = requests.get(url)\n",
        "        data = json.loads(response.text)\n",
        "\n",
        "        # Check if the response contains the 'current' key\n",
        "        if 'current' in data:\n",
        "            # Extract relevant weather information\n",
        "            temperature = data['current']['temp_c']\n",
        "            condition = data['current']['condition']['text']\n",
        "\n",
        "            # Return the weather information\n",
        "            return f\"The current temperature in {location} is {temperature}°C with {condition}.\"\n",
        "        else:\n",
        "            return \"Unable to fetch weather data for the given location.\"\n",
        "\n",
        "    except requests.exceptions.RequestException as e:\n",
        "        # Handle any errors that occur during the API request\n",
        "        return \"An error occurred while fetching the weather data.\"\n",
        "\n",
        "\n",
        "# Chatbot interface\n",
        "print(\"Welcome to the Weather Chatbot!\")\n",
        "\n",
        "while True:\n",
        "    location = input(\"Please enter a location (or 'exit' to quit): \")\n",
        "\n",
        "    if location.lower() == 'exit':\n",
        "        print(\"Thank you for using the Weather Chatbot. Goodbye!\")\n",
        "        break\n",
        "\n",
        "    weather_info = get_weather(location)\n",
        "\n",
        "    print(weather_info)"
      ]
    }
  ]
}